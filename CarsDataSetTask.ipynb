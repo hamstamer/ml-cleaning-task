{
 "cells": [
  {
   "cell_type": "markdown",
   "id": "589c7b58",
   "metadata": {
    "id": "589c7b58"
   },
   "source": [
    "Content:\n",
    "Used Cars Prices\n",
    "\n",
    "Here you find 78612 records about used cars:\n",
    "<br>\n",
    "60 Brand, 382 Model, 33 Modelyear,\n",
    "<br>\n",
    "1839 CarModel, 1397 AveragePrice,\n",
    "<br>\n",
    "893 MinimumPrice, 916 MaximumPrice,\n",
    "<br>\n",
    "over 128 Months/Year."
   ]
  },
  {
   "cell_type": "markdown",
   "id": "cda0af19",
   "metadata": {
    "id": "cda0af19"
   },
   "source": [
    "### Some Questions you should ask yourself about.\n",
    "1.  Is there any duplicates? .\n",
    "2. What about the nulls?.\n",
    "3. Does all columns has the a correct format in its values? if its not how should you make it better?\n",
    "4. Datatypes?\n",
    "5. Before starting , after seeing some info about the dataset and from the first look on the dataset , what columns you think will not be necessary in our dataset? (io: what columns you think dropping it will be better?).\n",
    "<br>\n",
    "<br>\n",
    "feel free to wirte only their names in the next cell\n",
    "\n",
    "Double Click here to start writing\n",
    "\n"
   ]
  },
  {
   "cell_type": "code",
   "execution_count": 46,
   "id": "a1a63822",
   "metadata": {
    "id": "a1a63822"
   },
   "outputs": [],
   "source": [
    "#import Libraries (numpy & Pandas)\n",
    "import pandas as pd\n",
    "import numpy as np"
   ]
  },
  {
   "cell_type": "code",
   "execution_count": 60,
   "id": "f8e58ccb",
   "metadata": {
    "id": "f8e58ccb"
   },
   "outputs": [],
   "source": [
    "#read Data\n",
    "data=pd.read_csv(\"used_car_prices.csv\")"
   ]
  },
  {
   "cell_type": "code",
   "execution_count": 61,
   "id": "1fb0eac6",
   "metadata": {
    "id": "1fb0eac6"
   },
   "outputs": [
    {
     "data": {
      "text/html": [
       "<div>\n",
       "<style scoped>\n",
       "    .dataframe tbody tr th:only-of-type {\n",
       "        vertical-align: middle;\n",
       "    }\n",
       "\n",
       "    .dataframe tbody tr th {\n",
       "        vertical-align: top;\n",
       "    }\n",
       "\n",
       "    .dataframe thead th {\n",
       "        text-align: right;\n",
       "    }\n",
       "</style>\n",
       "<table border=\"1\" class=\"dataframe\">\n",
       "  <thead>\n",
       "    <tr style=\"text-align: right;\">\n",
       "      <th></th>\n",
       "      <th>web-scraper-order</th>\n",
       "      <th>Car Model</th>\n",
       "      <th>Month/Year</th>\n",
       "      <th>Average price</th>\n",
       "      <th>Minimum price</th>\n",
       "      <th>Maximum price</th>\n",
       "    </tr>\n",
       "  </thead>\n",
       "  <tbody>\n",
       "    <tr>\n",
       "      <th>0</th>\n",
       "      <td>1680204632-1</td>\n",
       "      <td>Skoda Octavia A8 2022</td>\n",
       "      <td>2023-03</td>\n",
       "      <td>967,000 EGP</td>\n",
       "      <td>926,000 EGP</td>\n",
       "      <td>1,017,000 EGP</td>\n",
       "    </tr>\n",
       "    <tr>\n",
       "      <th>1</th>\n",
       "      <td>1680204632-2</td>\n",
       "      <td>Skoda Octavia A8 2022</td>\n",
       "      <td>2023-02</td>\n",
       "      <td>979,000 EGP</td>\n",
       "      <td>931,000 EGP</td>\n",
       "      <td>1,045,000 EGP</td>\n",
       "    </tr>\n",
       "    <tr>\n",
       "      <th>2</th>\n",
       "      <td>1680204632-3</td>\n",
       "      <td>Skoda Octavia A8 2022</td>\n",
       "      <td>2023-01</td>\n",
       "      <td>917,000 EGP</td>\n",
       "      <td>893,000 EGP</td>\n",
       "      <td>950,000 EGP</td>\n",
       "    </tr>\n",
       "    <tr>\n",
       "      <th>3</th>\n",
       "      <td>1680204632-4</td>\n",
       "      <td>Skoda Octavia A8 2022</td>\n",
       "      <td>2022-12</td>\n",
       "      <td>881,000 EGP</td>\n",
       "      <td>793,000 EGP</td>\n",
       "      <td>950,000 EGP</td>\n",
       "    </tr>\n",
       "    <tr>\n",
       "      <th>4</th>\n",
       "      <td>1680204632-5</td>\n",
       "      <td>Skoda Octavia A8 2022</td>\n",
       "      <td>2022-11</td>\n",
       "      <td>868,000 EGP</td>\n",
       "      <td>789,000 EGP</td>\n",
       "      <td>950,000 EGP</td>\n",
       "    </tr>\n",
       "    <tr>\n",
       "      <th>5</th>\n",
       "      <td>1680204632-6</td>\n",
       "      <td>Skoda Octavia A8 2022</td>\n",
       "      <td>2022-10</td>\n",
       "      <td>797,000 EGP</td>\n",
       "      <td>789,000 EGP</td>\n",
       "      <td>808,000 EGP</td>\n",
       "    </tr>\n",
       "    <tr>\n",
       "      <th>6</th>\n",
       "      <td>1680204632-7</td>\n",
       "      <td>Skoda Octavia A8 2022</td>\n",
       "      <td>2022-09</td>\n",
       "      <td>837,000 EGP</td>\n",
       "      <td>770,000 EGP</td>\n",
       "      <td>874,000 EGP</td>\n",
       "    </tr>\n",
       "    <tr>\n",
       "      <th>7</th>\n",
       "      <td>1680204632-8</td>\n",
       "      <td>Skoda Octavia A8 2022</td>\n",
       "      <td>2022-08</td>\n",
       "      <td>779,000 EGP</td>\n",
       "      <td>722,000 EGP</td>\n",
       "      <td>855,000 EGP</td>\n",
       "    </tr>\n",
       "  </tbody>\n",
       "</table>\n",
       "</div>"
      ],
      "text/plain": [
       "  web-scraper-order              Car Model Month/Year Average price  \\\n",
       "0      1680204632-1  Skoda Octavia A8 2022    2023-03   967,000 EGP   \n",
       "1      1680204632-2  Skoda Octavia A8 2022    2023-02   979,000 EGP   \n",
       "2      1680204632-3  Skoda Octavia A8 2022    2023-01   917,000 EGP   \n",
       "3      1680204632-4  Skoda Octavia A8 2022    2022-12   881,000 EGP   \n",
       "4      1680204632-5  Skoda Octavia A8 2022    2022-11   868,000 EGP   \n",
       "5      1680204632-6  Skoda Octavia A8 2022    2022-10   797,000 EGP   \n",
       "6      1680204632-7  Skoda Octavia A8 2022    2022-09   837,000 EGP   \n",
       "7      1680204632-8  Skoda Octavia A8 2022    2022-08   779,000 EGP   \n",
       "\n",
       "  Minimum price  Maximum price  \n",
       "0   926,000 EGP  1,017,000 EGP  \n",
       "1   931,000 EGP  1,045,000 EGP  \n",
       "2   893,000 EGP    950,000 EGP  \n",
       "3   793,000 EGP    950,000 EGP  \n",
       "4   789,000 EGP    950,000 EGP  \n",
       "5   789,000 EGP    808,000 EGP  \n",
       "6   770,000 EGP    874,000 EGP  \n",
       "7   722,000 EGP    855,000 EGP  "
      ]
     },
     "execution_count": 61,
     "metadata": {},
     "output_type": "execute_result"
    }
   ],
   "source": [
    "#print the first 8 row\n",
    "data.head(8)"
   ]
  },
  {
   "cell_type": "code",
   "execution_count": 49,
   "id": "ecea3d4c",
   "metadata": {
    "id": "ecea3d4c"
   },
   "outputs": [
    {
     "name": "stdout",
     "output_type": "stream",
     "text": [
      "there are 79090 rows and there are 6 columns\n"
     ]
    }
   ],
   "source": [
    "#print the shape Like (There are 84548 rows and 22 columns)\n",
    "print(f\"there are {data.shape[0]} rows and there are {data.shape[1]} columns\")"
   ]
  },
  {
   "cell_type": "code",
   "execution_count": 50,
   "id": "75a65e2a",
   "metadata": {
    "id": "75a65e2a"
   },
   "outputs": [
    {
     "name": "stdout",
     "output_type": "stream",
     "text": [
      "<class 'pandas.core.frame.DataFrame'>\n",
      "RangeIndex: 79090 entries, 0 to 79089\n",
      "Data columns (total 6 columns):\n",
      " #   Column             Non-Null Count  Dtype \n",
      "---  ------             --------------  ----- \n",
      " 0   web-scraper-order  79090 non-null  object\n",
      " 1   Car Model          79090 non-null  object\n",
      " 2   Month/Year         78612 non-null  object\n",
      " 3   Average price      78612 non-null  object\n",
      " 4   Minimum price      78612 non-null  object\n",
      " 5   Maximum price      78612 non-null  object\n",
      "dtypes: object(6)\n",
      "memory usage: 3.6+ MB\n"
     ]
    }
   ],
   "source": [
    "# try seeing some information about the data\n",
    "data.info()"
   ]
  },
  {
   "cell_type": "code",
   "execution_count": 51,
   "id": "390581cb",
   "metadata": {
    "id": "390581cb"
   },
   "outputs": [
    {
     "data": {
      "text/plain": [
       "0"
      ]
     },
     "execution_count": 51,
     "metadata": {},
     "output_type": "execute_result"
    }
   ],
   "source": [
    "# show the number of duplicates here\n",
    "data.duplicated().sum()"
   ]
  },
  {
   "cell_type": "code",
   "execution_count": 52,
   "id": "06f9a27e",
   "metadata": {
    "id": "06f9a27e"
   },
   "outputs": [
    {
     "data": {
      "text/plain": [
       "web-scraper-order      0\n",
       "Car Model              0\n",
       "Month/Year           478\n",
       "Average price        478\n",
       "Minimum price        478\n",
       "Maximum price        478\n",
       "dtype: int64"
      ]
     },
     "execution_count": 52,
     "metadata": {},
     "output_type": "execute_result"
    }
   ],
   "source": [
    "# show number of nulls\n",
    "data.isna().sum()"
   ]
  },
  {
   "cell_type": "code",
   "execution_count": 53,
   "id": "90719a09",
   "metadata": {
    "id": "90719a09"
   },
   "outputs": [],
   "source": [
    "# updated the column names Like(To Start with Upper Litter)\n",
    "capital=lambda x:x.title()\n",
    "data=data.rename(columns=capital)"
   ]
  },
  {
   "cell_type": "code",
   "execution_count": 54,
   "id": "e62ee7f7",
   "metadata": {
    "id": "e62ee7f7"
   },
   "outputs": [],
   "source": [
    "# Split Car Full Data into Brand, Model, And Year of The Model\n",
    "data[['Brand','Model','Year']]=data['Car Model'].str.split(expand=True,n=2)\n",
    "data = data.drop(columns=['Car Model'])"
   ]
  },
  {
   "cell_type": "code",
   "execution_count": 55,
   "id": "d4054a66",
   "metadata": {
    "id": "d4054a66"
   },
   "outputs": [],
   "source": [
    "# Convert Average price, Minimum price, Maximum price to Numaarical Values\n",
    "columns_to_convert = ['Average price', 'Minimum price', 'Maximum price']\n",
    "for column in columns_to_convert:\n",
    "    if column in data.columns:\n",
    "        data[column] = pd.to_numeric(data[column].str.replace('EGP', ''))"
   ]
  },
  {
   "cell_type": "code",
   "execution_count": 56,
   "id": "9d7bfd62",
   "metadata": {
    "id": "9d7bfd62"
   },
   "outputs": [],
   "source": [
    "# Split Month/Year Column to Year and Month\n",
    "data[['Year', 'Month']] = data['Month/Year'].str.split('-', expand=True)\n",
    "data = data.drop(columns=['Month/Year'])"
   ]
  },
  {
   "cell_type": "code",
   "execution_count": 57,
   "id": "9b043d0c",
   "metadata": {
    "id": "9b043d0c"
   },
   "outputs": [
    {
     "data": {
      "text/plain": [
       "Web-Scraper-Order      0\n",
       "Average Price        478\n",
       "Minimum Price        478\n",
       "Maximum Price        478\n",
       "Brand                  0\n",
       "Model                  0\n",
       "Year                 478\n",
       "Month                478\n",
       "dtype: int64"
      ]
     },
     "execution_count": 57,
     "metadata": {},
     "output_type": "execute_result"
    }
   ],
   "source": [
    "# let's start with (Average price ,Minimum price ,Maximum price ) , see the number of nulls in them , replace these nulls with the ( mean , median and mode) of these columns\n",
    "#and in the end check that there are not nulls in data\n",
    "data.isna().sum()"
   ]
  },
  {
   "cell_type": "code",
   "execution_count": 62,
   "id": "fa00c6c3",
   "metadata": {
    "id": "fa00c6c3"
   },
   "outputs": [],
   "source": [
    "data['Average price']=data['Average price'].fillna(data['Average price'].mode()[0])\n",
    "data[\"Minimum price\"]=data[\"Minimum price\"].fillna(data[\"Minimum price\"].mode()[0])\n",
    "data[\"Maximum price\"]=data[\"Maximum price\"].fillna(data[\"Maximum price\"].mode()[0])\n"
   ]
  },
  {
   "cell_type": "code",
   "execution_count": 63,
   "id": "7cc320ff",
   "metadata": {},
   "outputs": [
    {
     "data": {
      "text/plain": [
       "0"
      ]
     },
     "execution_count": 63,
     "metadata": {},
     "output_type": "execute_result"
    }
   ],
   "source": [
    "data['Average price'].isna().sum()"
   ]
  },
  {
   "cell_type": "code",
   "execution_count": 64,
   "id": "f39ce090",
   "metadata": {},
   "outputs": [
    {
     "data": {
      "text/plain": [
       "0"
      ]
     },
     "execution_count": 64,
     "metadata": {},
     "output_type": "execute_result"
    }
   ],
   "source": [
    "data['Minimum price'].isna().sum()"
   ]
  },
  {
   "cell_type": "code",
   "execution_count": 65,
   "id": "a7359a2e",
   "metadata": {},
   "outputs": [
    {
     "data": {
      "text/plain": [
       "0"
      ]
     },
     "execution_count": 65,
     "metadata": {},
     "output_type": "execute_result"
    }
   ],
   "source": [
    "data['Maximum price'].isna().sum()"
   ]
  }
 ],
 "metadata": {
  "colab": {
   "provenance": []
  },
  "kernelspec": {
   "display_name": "Python 3 (ipykernel)",
   "language": "python",
   "name": "python3"
  },
  "language_info": {
   "codemirror_mode": {
    "name": "ipython",
    "version": 3
   },
   "file_extension": ".py",
   "mimetype": "text/x-python",
   "name": "python",
   "nbconvert_exporter": "python",
   "pygments_lexer": "ipython3",
   "version": "3.9.13"
  }
 },
 "nbformat": 4,
 "nbformat_minor": 5
}
